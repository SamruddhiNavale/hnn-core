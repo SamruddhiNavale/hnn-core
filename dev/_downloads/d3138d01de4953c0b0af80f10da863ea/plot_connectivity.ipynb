{
  "cells": [
    {
      "cell_type": "code",
      "execution_count": null,
      "metadata": {
        "collapsed": false
      },
      "outputs": [],
      "source": [
        "%matplotlib inline"
      ]
    },
    {
      "cell_type": "markdown",
      "metadata": {},
      "source": [
        "\n# 07. Plot Connectivity\n\nThis example demonstrates how to modify the network connectivity.\n\n"
      ]
    },
    {
      "cell_type": "code",
      "execution_count": null,
      "metadata": {
        "collapsed": false
      },
      "outputs": [],
      "source": [
        "# Author: Nick Tolley <nicholas_tolley@brown.edu>\n\nimport os.path as op"
      ]
    },
    {
      "cell_type": "markdown",
      "metadata": {},
      "source": [
        "Let us import ``hnn_core``.\n\n"
      ]
    },
    {
      "cell_type": "code",
      "execution_count": null,
      "metadata": {
        "collapsed": false
      },
      "outputs": [],
      "source": [
        "import hnn_core\nfrom hnn_core import read_params, Network, simulate_dipole\n\nhnn_core_root = op.dirname(hnn_core.__file__)"
      ]
    },
    {
      "cell_type": "markdown",
      "metadata": {},
      "source": [
        "Then we read the parameters file\n\n"
      ]
    },
    {
      "cell_type": "code",
      "execution_count": null,
      "metadata": {
        "collapsed": false
      },
      "outputs": [],
      "source": [
        "params_fname = op.join(hnn_core_root, 'param', 'default.json')\nparams = read_params(params_fname)"
      ]
    },
    {
      "cell_type": "markdown",
      "metadata": {},
      "source": [
        "To explore how to modify network connectivity, we will start with simulating\nthe evoked response from the\n`evoked example <sphx_glr_auto_examples_plot_simulate_evoked.py>`, and\nexplore how it changes with new connections. We first instantiate the\nnetwork. (Note: Setting ``add_drives_from_params=True`` loads a set of\npredefined drives without the drives API shown previously).\n\n"
      ]
    },
    {
      "cell_type": "code",
      "execution_count": null,
      "metadata": {
        "collapsed": false
      },
      "outputs": [],
      "source": [
        "net = Network(params, add_drives_from_params=True)"
      ]
    },
    {
      "cell_type": "markdown",
      "metadata": {},
      "source": [
        "Instantiating the network comes with a predefined set of connections that\nreflect the canonical neocortical microcircuit. ``net.connectivity``\nis a list of dictionaries which detail every cell-cell, and drive-cell\nconnection.\n\n"
      ]
    },
    {
      "cell_type": "code",
      "execution_count": null,
      "metadata": {
        "collapsed": false
      },
      "outputs": [],
      "source": [
        "print(len(net.connectivity))\nprint(net.connectivity[0])\nprint(net.connectivity[-1])"
      ]
    },
    {
      "cell_type": "markdown",
      "metadata": {},
      "source": [
        "Data recorded during simulations are stored under\n:class:`~hnn_core.Cell_Response`. To test multiple network structures, we can\ncreate a copy of the original network. The copied network is then simulated.\n\n"
      ]
    },
    {
      "cell_type": "code",
      "execution_count": null,
      "metadata": {
        "collapsed": false
      },
      "outputs": [],
      "source": [
        "net_erp = net.copy()\ndpl_erp = simulate_dipole(net_erp, n_trials=1)\nnet_erp.cell_response.plot_spikes_raster()"
      ]
    },
    {
      "cell_type": "markdown",
      "metadata": {},
      "source": [
        "We can modify the connectivity list to test the effect of different\nconnectivity patterns. For example, we can remove all layer 2 inhibitory\nconnections.\n\n"
      ]
    },
    {
      "cell_type": "code",
      "execution_count": null,
      "metadata": {
        "collapsed": false
      },
      "outputs": [],
      "source": [
        "new_connectivity = [conn for conn in net.connectivity\n                    if conn['src_type'] != 'L2_basket']\nnet.connectivity = new_connectivity\n\nnet_remove = net.copy()\ndpl_remove = simulate_dipole(net_remove, n_trials=1)\nnet_remove.cell_response.plot_spikes_raster()"
      ]
    },
    {
      "cell_type": "markdown",
      "metadata": {},
      "source": [
        "That's a lot of spiking! Since basket cells are inhibitory, removing these\nconnections increases network wide excitability. We can additionally add\nnew connections using ``net.add_connection()``. Let's try connecting a\nsingle layer 2 basket cell, to every layer 2 pyramidal cell. We can utilize\n``net.gid_ranges`` to help\nfind the gids of interest.\n\n"
      ]
    },
    {
      "cell_type": "code",
      "execution_count": null,
      "metadata": {
        "collapsed": false
      },
      "outputs": [],
      "source": [
        "print(net.gid_ranges)\nsrc_gid = net.gid_ranges['L2_basket'][0]\ntarget_gids = net.gid_ranges['L2_pyramidal']\nlocation, receptor = 'soma', 'gabaa'\nweight, delay, lamtha = 1.0, 1.0, 70\nnet.add_connection(src_gid, target_gids, location, receptor,\n                   delay, weight, lamtha)\n\nnet_add = net.copy()\ndpl_add = simulate_dipole(net_add, n_trials=1)\nnet_add.cell_response.plot_spikes_raster()"
      ]
    },
    {
      "cell_type": "markdown",
      "metadata": {},
      "source": [
        "Adding more inhibitory connections did not completely restore the normal\nspiking. L2 basket and pyramidal cells rhythymically fire in the gamma\nrange (30-80 Hz). As a final step, we can see how this change in spiking\nactivity impacts the aggregate current dipole.\n\n"
      ]
    },
    {
      "cell_type": "code",
      "execution_count": null,
      "metadata": {
        "collapsed": false
      },
      "outputs": [],
      "source": [
        "import matplotlib.pyplot as plt\nfrom hnn_core.viz import plot_dipole\nfig, axes = plt.subplots(2, 1, sharex=True, figsize=(6, 6),\n                         constrained_layout=True)\ndpls = [dpl_erp[0], dpl_remove[0], dpl_add[0]]\nplot_dipole(dpls, ax=axes[0], layer='agg', show=False)\naxes[0].legend(['Normal', 'No L2 Basket', 'Single L2 Basket'])\nnet_erp.cell_response.plot_spikes_hist(\n    ax=axes[1], spike_types=['evprox', 'evdist'])"
      ]
    }
  ],
  "metadata": {
    "kernelspec": {
      "display_name": "Python 3",
      "language": "python",
      "name": "python3"
    },
    "language_info": {
      "codemirror_mode": {
        "name": "ipython",
        "version": 3
      },
      "file_extension": ".py",
      "mimetype": "text/x-python",
      "name": "python",
      "nbconvert_exporter": "python",
      "pygments_lexer": "ipython3",
      "version": "3.6.13"
    }
  },
  "nbformat": 4,
  "nbformat_minor": 0
}