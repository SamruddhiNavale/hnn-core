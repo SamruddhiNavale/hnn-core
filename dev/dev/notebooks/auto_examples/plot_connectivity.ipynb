{
  "cells": [
    {
      "cell_type": "code",
      "execution_count": null,
      "metadata": {
        "collapsed": false
      },
      "outputs": [],
      "source": [
        "%matplotlib inline"
      ]
    },
    {
      "cell_type": "markdown",
      "metadata": {},
      "source": [
        "\n# 06. Plot Connectivity\n\nThis example demonstrates how to modify the network connectivity.\n\n"
      ]
    },
    {
      "cell_type": "code",
      "execution_count": null,
      "metadata": {
        "collapsed": false
      },
      "outputs": [],
      "source": [
        "# Author: Nick Tolley <nicholas_tolley@brown.edu>\n\n# sphinx_gallery_thumbnail_number = 5\n\nimport os.path as op"
      ]
    },
    {
      "cell_type": "markdown",
      "metadata": {},
      "source": [
        "Let us import ``hnn_core``.\n\n"
      ]
    },
    {
      "cell_type": "code",
      "execution_count": null,
      "metadata": {
        "collapsed": false
      },
      "outputs": [],
      "source": [
        "import hnn_core\nfrom hnn_core import read_params, default_network, simulate_dipole\n\nhnn_core_root = op.dirname(hnn_core.__file__)"
      ]
    },
    {
      "cell_type": "markdown",
      "metadata": {},
      "source": [
        "Then we read the parameters file\n\n"
      ]
    },
    {
      "cell_type": "code",
      "execution_count": null,
      "metadata": {
        "collapsed": false
      },
      "outputs": [],
      "source": [
        "params_fname = op.join(hnn_core_root, 'param', 'default.json')\nparams = read_params(params_fname)"
      ]
    },
    {
      "cell_type": "markdown",
      "metadata": {},
      "source": [
        "To explore how to modify network connectivity, we will start with simulating\nthe evoked response from the\n`evoked example <sphx_glr_auto_examples_plot_simulate_evoked.py>`, and\nexplore how it changes with new connections. We first instantiate the\nnetwork. (Note: Setting ``add_drives_from_params=True`` loads a set of\npredefined drives without the drives API shown previously).\n\n"
      ]
    },
    {
      "cell_type": "code",
      "execution_count": null,
      "metadata": {
        "collapsed": false
      },
      "outputs": [],
      "source": [
        "net_erp = default_network(params, add_drives_from_params=True)"
      ]
    },
    {
      "cell_type": "markdown",
      "metadata": {},
      "source": [
        "Instantiating the network comes with a predefined set of connections that\nreflect the canonical neocortical microcircuit. ``net.connectivity``\nis a list of dictionaries which detail every cell-cell, and drive-cell\nconnection.\n\n"
      ]
    },
    {
      "cell_type": "code",
      "execution_count": null,
      "metadata": {
        "collapsed": false
      },
      "outputs": [],
      "source": [
        "print(len(net_erp.connectivity))\nprint(net_erp.connectivity[0:2])"
      ]
    },
    {
      "cell_type": "markdown",
      "metadata": {},
      "source": [
        "Data recorded during simulations are stored under\n:class:`~hnn_core.Cell_Response`. Spiking activity can be visualized after\na simulation is using :meth:`~hnn_core.Cell_Response.plot_spikes_raster`\n\n"
      ]
    },
    {
      "cell_type": "code",
      "execution_count": null,
      "metadata": {
        "collapsed": false
      },
      "outputs": [],
      "source": [
        "dpl_erp = simulate_dipole(net_erp, n_trials=1)\nnet_erp.cell_response.plot_spikes_raster()"
      ]
    },
    {
      "cell_type": "markdown",
      "metadata": {},
      "source": [
        "We can also define our own connections to test the effect of different\nconnectivity patterns. To start, ``net.clear_connectivity()`` can be used\nto clear all cell to cell connections. By default, previously defined drives\nto the network are retained, but can be removed with ``net.clear_drives()``.\n``net.add_connection`` is then used to create a custom network. Let us first\ncreate an all-to-all connectivity pattern between the L5 pyramidal cells,\nand L2 basket cells. :meth:`hnn_core.Network.add_connection` allows\nconnections to be specified with either cell names, or the gids directly.\nIf multiple gids are provided for either the sources or the targets,\nthey will be connected in an all-to-all pattern.\n\n"
      ]
    },
    {
      "cell_type": "code",
      "execution_count": null,
      "metadata": {
        "collapsed": false
      },
      "outputs": [],
      "source": [
        "net_all = default_network(params, add_drives_from_params=True)\nnet_all.clear_connectivity()\n\n# Pyramidal cell connections\nlocation, receptor = 'distal', 'ampa'\nweight, delay, lamtha = 1.0, 1.0, 70\nsrc = 'L5_pyramidal'\nfor target in ['L5_pyramidal', 'L2_basket']:\n    net_all.add_connection(src, target, location, receptor,\n                           delay, weight, lamtha)\n\n# Basket cell connections\nlocation, receptor = 'soma', 'gabaa'\nweight, delay, lamtha = 1.0, 1.0, 70\nsrc = 'L2_basket'\nfor target in ['L5_pyramidal', 'L2_basket']:\n    net_all.add_connection(src, target, location, receptor,\n                           delay, weight, lamtha)\n\ndpl_all = simulate_dipole(net_all, n_trials=1)\nnet_all.cell_response.plot_spikes_raster()"
      ]
    },
    {
      "cell_type": "markdown",
      "metadata": {},
      "source": [
        "With the previous connection pattern there appears to be synchronous rhythmic\nfiring of the L5 pyramidal cells with a period of 10 ms. The synchronous\nactivity is visible as vertical lines where several cells fire simultaneously\nWe can additionally use the ``probability``. argument to create a sparse\nconnectivity pattern instead of all-to-all. Let's try creating the same\nnetwork with a 10% chance of cells connecting to each other. The resulting\nconnectivity pattern can also be visualized with\n``net.connectivity[idx].plot()``\n\n"
      ]
    },
    {
      "cell_type": "code",
      "execution_count": null,
      "metadata": {
        "collapsed": false
      },
      "outputs": [],
      "source": [
        "probability = 0.1\nnet_sparse = default_network(params, add_drives_from_params=True)\nnet_sparse.clear_connectivity()\n\n# Pyramidal cell connections\nlocation, receptor = 'distal', 'ampa'\nweight, delay, lamtha = 1.0, 1.0, 70\nsrc = 'L5_pyramidal'\nfor target in ['L5_pyramidal', 'L2_basket']:\n    net_sparse.add_connection(src, target, location, receptor,\n                              delay, weight, lamtha, probability)\n\n# Basket cell connections\nlocation, receptor = 'soma', 'gabaa'\nweight, delay, lamtha = 1.0, 1.0, 70\nsrc = 'L2_basket'\nfor target in ['L5_pyramidal', 'L2_basket']:\n    net_sparse.add_connection(src, target, location, receptor,\n                              delay, weight, lamtha, probability)\n\ndpl_sparse = simulate_dipole(net_sparse, n_trials=1)\nnet_sparse.cell_response.plot_spikes_raster()\n\nnet_sparse.connectivity[-2].plot()\nnet_sparse.connectivity[-1].plot()"
      ]
    },
    {
      "cell_type": "markdown",
      "metadata": {},
      "source": [
        "Using the sparse connectivity pattern produced a lot more spiking in\nthe L5 pyramidal cells. Nevertheless there appears to be some rhythmicity\nwhere the cells are firing synchronously with a smaller period of 4-5 ms.\nAs a final step, we can see how this change in spiking activity impacts\nthe aggregate current dipole.\n\n"
      ]
    },
    {
      "cell_type": "code",
      "execution_count": null,
      "metadata": {
        "collapsed": false
      },
      "outputs": [],
      "source": [
        "import matplotlib.pyplot as plt\nfrom hnn_core.viz import plot_dipole\nfig, axes = plt.subplots(2, 1, sharex=True, figsize=(6, 6),\n                         constrained_layout=True)\ndpls = [dpl_erp[0], dpl_all[0], dpl_sparse[0]]\nplot_dipole(dpls, ax=axes[0], layer='agg', show=False)\naxes[0].legend(['Default', 'Custom All', 'Custom Sparse'])\nnet_erp.cell_response.plot_spikes_hist(\n    ax=axes[1], spike_types=['evprox', 'evdist'])"
      ]
    }
  ],
  "metadata": {
    "kernelspec": {
      "display_name": "Python 3",
      "language": "python",
      "name": "python3"
    },
    "language_info": {
      "codemirror_mode": {
        "name": "ipython",
        "version": 3
      },
      "file_extension": ".py",
      "mimetype": "text/x-python",
      "name": "python",
      "nbconvert_exporter": "python",
      "pygments_lexer": "ipython3",
      "version": "3.6.13"
    }
  },
  "nbformat": 4,
  "nbformat_minor": 0
}