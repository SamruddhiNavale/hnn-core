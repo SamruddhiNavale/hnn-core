{
  "cells": [
    {
      "cell_type": "code",
      "execution_count": null,
      "metadata": {
        "collapsed": false
      },
      "outputs": [],
      "source": [
        "%matplotlib inline"
      ]
    },
    {
      "cell_type": "markdown",
      "metadata": {},
      "source": [
        "\n# Plot firing pattern\n\nThis example demonstrates how to inspect the firing\npattern of cells in the HNN model.\n\n"
      ]
    },
    {
      "cell_type": "code",
      "execution_count": null,
      "metadata": {
        "collapsed": false
      },
      "outputs": [],
      "source": [
        "# Authors: Mainak Jas <mjas@harvard.mgh.edu>\n#          Nick Tolley <nick nicholas_tolley@brown.edu>\n\nimport os.path as op"
      ]
    },
    {
      "cell_type": "markdown",
      "metadata": {},
      "source": [
        "Let us import hnn_core\n\n"
      ]
    },
    {
      "cell_type": "code",
      "execution_count": null,
      "metadata": {
        "collapsed": false
      },
      "outputs": [],
      "source": [
        "import hnn_core\nfrom hnn_core import read_params, Network, simulate_dipole\n\nhnn_core_root = op.dirname(hnn_core.__file__)"
      ]
    },
    {
      "cell_type": "markdown",
      "metadata": {},
      "source": [
        "Then we read the parameters file\n\n"
      ]
    },
    {
      "cell_type": "code",
      "execution_count": null,
      "metadata": {
        "collapsed": false
      },
      "outputs": [],
      "source": [
        "params_fname = op.join(hnn_core_root, 'param', 'default.json')\nparams = read_params(params_fname)"
      ]
    },
    {
      "cell_type": "markdown",
      "metadata": {},
      "source": [
        "Now let's build the network and simulate its dynamics with somatic voltage\nrecordings enabled\n\n"
      ]
    },
    {
      "cell_type": "code",
      "execution_count": null,
      "metadata": {
        "collapsed": false
      },
      "outputs": [],
      "source": [
        "import matplotlib.pyplot as plt\n\nnet = Network(params)\n\n# Distal evoked drive\nweights_ampa_d1 = {'L2_basket': 0.006562, 'L2_pyramidal': .000007,\n                   'L5_pyramidal': 0.142300}\nweights_nmda_d1 = {'L2_basket': 0.019482, 'L2_pyramidal': 0.004317,\n                   'L5_pyramidal': 0.080074}\nsynaptic_delays_d1 = {'L2_basket': 0.1, 'L2_pyramidal': 0.1,\n                      'L5_pyramidal': 0.1}\nnet.add_evoked_drive(\n    'evdist1', mu=63.53, sigma=3.85, numspikes=1, weights_ampa=weights_ampa_d1,\n    weights_nmda=weights_nmda_d1, location='distal',\n    synaptic_delays=synaptic_delays_d1, seedcore=4)\n\n# First proximal evoked drive\nweights_ampa_p1 = {'L2_basket': 0.08831, 'L2_pyramidal': 0.01525,\n                   'L5_basket': 0.19934, 'L5_pyramidal': 0.00865}\nsynaptic_delays_prox = {'L2_basket': 0.1, 'L2_pyramidal': 0.1,\n                        'L5_basket': 1., 'L5_pyramidal': 1.}\n# all NMDA weights are zero; pass None explicitly\nnet.add_evoked_drive(\n    'evprox1', mu=26.61, sigma=2.47, numspikes=1, weights_ampa=weights_ampa_p1,\n    weights_nmda=None, location='proximal',\n    synaptic_delays=synaptic_delays_prox, seedcore=4)\n\n# Second proximal evoked drive. NB: only AMPA weights differ from first\nweights_ampa_p2 = {'L2_basket': 0.000003, 'L2_pyramidal': 1.438840,\n                   'L5_basket': 0.008958, 'L5_pyramidal': 0.684013}\n# all NMDA weights are zero; omit weights_nmda (defaults to None)\nnet.add_evoked_drive(\n    'evprox2', mu=137.12, sigma=8.33, numspikes=1,\n    weights_ampa=weights_ampa_p2, location='proximal',\n    synaptic_delays=synaptic_delays_prox, seedcore=4)\n\ndpls = simulate_dipole(net, record_vsoma=True)"
      ]
    },
    {
      "cell_type": "markdown",
      "metadata": {},
      "source": [
        "The cell IDs (gids) are stored in the network object as a dictionary\n\n"
      ]
    },
    {
      "cell_type": "code",
      "execution_count": null,
      "metadata": {
        "collapsed": false
      },
      "outputs": [],
      "source": [
        "gid_ranges = net.gid_ranges\nprint(net.gid_ranges)"
      ]
    },
    {
      "cell_type": "markdown",
      "metadata": {},
      "source": [
        "Simulated voltage in the soma is stored in CellResponse as a dictionary.\nThe CellResponse object stores data produced by individual cells including\nspikes, somatic voltages and currents.\n\n"
      ]
    },
    {
      "cell_type": "code",
      "execution_count": null,
      "metadata": {
        "collapsed": false
      },
      "outputs": [],
      "source": [
        "trial_idx = 0\nvsoma = net.cell_response.vsoma[trial_idx]\nprint(vsoma.keys())"
      ]
    },
    {
      "cell_type": "markdown",
      "metadata": {},
      "source": [
        "We can plot the firing pattern of individual cells by indexing with the gid\n\n"
      ]
    },
    {
      "cell_type": "code",
      "execution_count": null,
      "metadata": {
        "collapsed": false
      },
      "outputs": [],
      "source": [
        "gid = 170\nplt.figure(figsize=(4, 4))\nplt.plot(net.cell_response.times, vsoma[gid])\nplt.title('%s (gid=%d)' % (net.gid_to_type(gid), gid))\nplt.xlabel('Time (ms)')\nplt.ylabel('Voltage (mV)')\nplt.show()"
      ]
    },
    {
      "cell_type": "markdown",
      "metadata": {},
      "source": [
        "Let's plot the soma voltage along with the spiking activity with raster\nplots and histograms for the Pyramidal cells.\n\n"
      ]
    },
    {
      "cell_type": "code",
      "execution_count": null,
      "metadata": {
        "collapsed": false
      },
      "outputs": [],
      "source": [
        "fig, axes = plt.subplots(3, 1, figsize=(5, 7), sharex=True)\n\nfor idx in range(10):  # only 10 cells per cell-type\n    gid = gid_ranges['L2_pyramidal'][idx]\n    axes[0].plot(net.cell_response.times, vsoma[gid], color='g')\n    gid = gid_ranges['L5_pyramidal'][idx]\n    axes[0].plot(net.cell_response.times, vsoma[gid], color='r')\nnet.cell_response.plot_spikes_raster(ax=axes[1])\nnet.cell_response.plot_spikes_hist(ax=axes[2],\n                                   spike_types=['L5_pyramidal',\n                                                'L2_pyramidal'])"
      ]
    }
  ],
  "metadata": {
    "kernelspec": {
      "display_name": "Python 3",
      "language": "python",
      "name": "python3"
    },
    "language_info": {
      "codemirror_mode": {
        "name": "ipython",
        "version": 3
      },
      "file_extension": ".py",
      "mimetype": "text/x-python",
      "name": "python",
      "nbconvert_exporter": "python",
      "pygments_lexer": "ipython3",
      "version": "3.6.12"
    }
  },
  "nbformat": 4,
  "nbformat_minor": 0
}