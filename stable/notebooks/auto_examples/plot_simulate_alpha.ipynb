{
  "cells": [
    {
      "cell_type": "code",
      "execution_count": null,
      "metadata": {
        "collapsed": false
      },
      "outputs": [],
      "source": [
        "%matplotlib inline"
      ]
    },
    {
      "cell_type": "markdown",
      "metadata": {},
      "source": [
        "\n# 02. Simulate alpha waves\n\nThis example demonstrates how to simulate alpha waves using\nHNN-core.\n\n"
      ]
    },
    {
      "cell_type": "code",
      "execution_count": null,
      "metadata": {
        "collapsed": false
      },
      "outputs": [],
      "source": [
        "# Authors: Mainak Jas <mainak.jas@telecom-paristech.fr>\n#          Sam Neymotin <samnemo@gmail.com>\n\nimport os.path as op"
      ]
    },
    {
      "cell_type": "markdown",
      "metadata": {},
      "source": [
        "Let us import hnn_core\n\n"
      ]
    },
    {
      "cell_type": "code",
      "execution_count": null,
      "metadata": {
        "collapsed": false
      },
      "outputs": [],
      "source": [
        "import hnn_core\nfrom hnn_core import simulate_dipole, read_params, Network"
      ]
    },
    {
      "cell_type": "markdown",
      "metadata": {},
      "source": [
        "Then we setup the directories and Neuron\n\n"
      ]
    },
    {
      "cell_type": "code",
      "execution_count": null,
      "metadata": {
        "collapsed": false
      },
      "outputs": [],
      "source": [
        "hnn_core_root = op.dirname(hnn_core.__file__)"
      ]
    },
    {
      "cell_type": "markdown",
      "metadata": {},
      "source": [
        "Then we read the default parameters file\n\n"
      ]
    },
    {
      "cell_type": "code",
      "execution_count": null,
      "metadata": {
        "collapsed": false
      },
      "outputs": [],
      "source": [
        "params_fname = op.join(hnn_core_root, 'param', 'default.json')\nparams = read_params(params_fname)\nprint(params)"
      ]
    },
    {
      "cell_type": "markdown",
      "metadata": {},
      "source": [
        "Update a few of the default parameters related to visualisation\n\n"
      ]
    },
    {
      "cell_type": "code",
      "execution_count": null,
      "metadata": {
        "collapsed": false
      },
      "outputs": [],
      "source": [
        "params.update({\n    'dipole_scalefctr': 150000.0,\n    'dipole_smooth_win': 0,\n    'tstop': 310.0,\n})"
      ]
    },
    {
      "cell_type": "markdown",
      "metadata": {},
      "source": [
        "Now let's simulate the dipole and plot it. To excite the network, we add a\n~10 Hz \"bursty\" drive starting at 50 ms and continuing to the end of the\nsimulation. Each burst consists of a pair (2) of spikes, spaced 10 ms apart.\nThe occurrence of each burst is jittered by a random, normally distributed\namount (20 ms standard deviation). We repeat the burst train 10 times, each\ntime with unique randomization. The drive is only connected to the distal\n(dendritic) AMPA synapses on L2/3 and L5 pyramidal neurons.\n\n"
      ]
    },
    {
      "cell_type": "code",
      "execution_count": null,
      "metadata": {
        "collapsed": false
      },
      "outputs": [],
      "source": [
        "net = Network(params)\n\nweights_ampa = {'L2_pyramidal': 5.4e-5, 'L5_pyramidal': 5.4e-5}\nnet.add_bursty_drive(\n    'bursty', tstart=50., burst_rate=10, burst_std=20., numspikes=2,\n    spike_isi=10, repeats=10, location='distal', weights_ampa=weights_ampa,\n    seedcore=4)\n\ndpl = simulate_dipole(net)\n\ntrial_idx = 0  # single trial simulated\ndpl[trial_idx].plot()"
      ]
    },
    {
      "cell_type": "markdown",
      "metadata": {},
      "source": [
        "We can confirm that what we simulate is indeed 10 Hz activity.\n\n"
      ]
    },
    {
      "cell_type": "code",
      "execution_count": null,
      "metadata": {
        "collapsed": false
      },
      "outputs": [],
      "source": [
        "import matplotlib.pyplot as plt\nfrom hnn_core.viz import plot_spectrogram\ntmin = 20  # exclude initial burn-in period\nplot_spectrogram(dpl[trial_idx], fmin=0., fmax=40., tmin=tmin)"
      ]
    }
  ],
  "metadata": {
    "kernelspec": {
      "display_name": "Python 3",
      "language": "python",
      "name": "python3"
    },
    "language_info": {
      "codemirror_mode": {
        "name": "ipython",
        "version": 3
      },
      "file_extension": ".py",
      "mimetype": "text/x-python",
      "name": "python",
      "nbconvert_exporter": "python",
      "pygments_lexer": "ipython3",
      "version": "3.6.12"
    }
  },
  "nbformat": 4,
  "nbformat_minor": 0
}