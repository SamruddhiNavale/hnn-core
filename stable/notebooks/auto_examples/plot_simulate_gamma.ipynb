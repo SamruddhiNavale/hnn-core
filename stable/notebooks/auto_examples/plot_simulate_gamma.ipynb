{
  "cells": [
    {
      "cell_type": "code",
      "execution_count": null,
      "metadata": {
        "collapsed": false
      },
      "outputs": [],
      "source": [
        "%matplotlib inline"
      ]
    },
    {
      "cell_type": "markdown",
      "metadata": {},
      "source": [
        "\n# Simulate gamma rhythms\n\nThis example demonstrates how to simulate gamma rhythms using hnn-core.\n\nReplicates: https://jonescompneurolab.github.io/hnn-tutorials/gamma/gamma\n\n"
      ]
    },
    {
      "cell_type": "code",
      "execution_count": null,
      "metadata": {
        "collapsed": false
      },
      "outputs": [],
      "source": [
        "# Authors: Mainak Jas <mainak.jas@telecom-paristech.fr>\n#          Sam Neymotin <samnemo@gmail.com>\n\nimport os.path as op"
      ]
    },
    {
      "cell_type": "markdown",
      "metadata": {},
      "source": [
        "Let us import hnn_core\n\n"
      ]
    },
    {
      "cell_type": "code",
      "execution_count": null,
      "metadata": {
        "collapsed": false
      },
      "outputs": [],
      "source": [
        "import hnn_core\nfrom hnn_core import simulate_dipole, read_params, Network\n\nhnn_core_root = op.dirname(hnn_core.__file__)"
      ]
    },
    {
      "cell_type": "markdown",
      "metadata": {},
      "source": [
        "Then we read the parameters file\n\n"
      ]
    },
    {
      "cell_type": "code",
      "execution_count": null,
      "metadata": {
        "collapsed": false
      },
      "outputs": [],
      "source": [
        "params_fname = op.join(hnn_core_root, 'param', 'gamma_L5weak_L2weak.json')\nparams = read_params(params_fname)\nprint(params)"
      ]
    },
    {
      "cell_type": "markdown",
      "metadata": {},
      "source": [
        "Now let's simulate the dipole\n\n"
      ]
    },
    {
      "cell_type": "code",
      "execution_count": null,
      "metadata": {
        "collapsed": false
      },
      "outputs": [],
      "source": [
        "net = Network(params)\ndpls = simulate_dipole(net, n_trials=1)"
      ]
    },
    {
      "cell_type": "markdown",
      "metadata": {},
      "source": [
        "The network requires some time to reach steady state. Hence, we omit the\nfirst 50 ms in our time-frequency analysis.\n\n"
      ]
    },
    {
      "cell_type": "code",
      "execution_count": null,
      "metadata": {
        "collapsed": false
      },
      "outputs": [],
      "source": [
        "tstart = 50\ntrial_idx = 0  # pick first trial\nmask = dpls[trial_idx].times > tstart\ntimes = dpls[trial_idx].times[mask]\ndata = dpls[trial_idx].data['agg'][mask]"
      ]
    },
    {
      "cell_type": "markdown",
      "metadata": {},
      "source": [
        "We can plot the time-frequency response using MNE\n\n"
      ]
    },
    {
      "cell_type": "code",
      "execution_count": null,
      "metadata": {
        "collapsed": false
      },
      "outputs": [],
      "source": [
        "import numpy as np\nimport matplotlib.pyplot as plt\nfrom mne.time_frequency import tfr_array_morlet\n\nfig, axes = plt.subplots(2, 1, sharex=True, figsize=(6, 6))\naxes[0].plot(times, data)\n\nsfreq = 1000. / params['dt']\nfreqs = np.arange(20., 100., 1.)\nn_cycles = freqs / 8.\n\n# MNE expects an array of shape (n_trials, n_channels, n_times)\ndata = data[None, None, :]\npower = tfr_array_morlet(data, sfreq=sfreq, freqs=freqs,\n                         n_cycles=n_cycles, output='power')\n\nim = axes[1].pcolormesh(times, freqs, power[0, 0, ...], cmap='RdBu_r',\n                        shading='auto')\naxes[1].set_xlabel('Time (ms)')\naxes[1].set_ylabel('Frequency (Hz)')\n\n# Add colorbar\nfig.subplots_adjust(right=0.8)\ncbar_ax = fig.add_axes([0.85, 0.12, 0.03, 0.33])\nfig.colorbar(im, cax=cbar_ax)\n\nplt.show()"
      ]
    },
    {
      "cell_type": "markdown",
      "metadata": {},
      "source": [
        "As a final exercise, let us try to re-run the simulation with tonic inputs\nto the L5 Pyramidal cells. Notice that the oscillation waveform is now more\nregular with less noise due to the fact that the tonic drive is strong and\noutweighs the influence of the Poisson drive\n\n"
      ]
    },
    {
      "cell_type": "code",
      "execution_count": null,
      "metadata": {
        "collapsed": false
      },
      "outputs": [],
      "source": [
        "net.add_tonic_input(cell_type='L5Pyr', amplitude=6., t0=0, T=params['tstop'])\ndpls = simulate_dipole(net, n_trials=1)\n\ndpls[0].plot()"
      ]
    },
    {
      "cell_type": "markdown",
      "metadata": {},
      "source": [
        "Notice that the Layer 5 pyramidal neurons are now firing nearly\nsynchronously. They in turn synchronously activate the inhibitory basket\nneurons, which then inhibit the pyramidal neurons for ~20 ms. Once the\ntonic drive outweighs the inhibition and the pyramidal neurons firing again\ncreating a ~50 Hz PING rhythm. This type of synchronous rhythm is sometimes\nreferred to as \u201cstrong\u201d PING.\n\n"
      ]
    },
    {
      "cell_type": "code",
      "execution_count": null,
      "metadata": {
        "collapsed": false
      },
      "outputs": [],
      "source": [
        "net.cell_response.plot_spikes_raster()"
      ]
    }
  ],
  "metadata": {
    "kernelspec": {
      "display_name": "Python 3",
      "language": "python",
      "name": "python3"
    },
    "language_info": {
      "codemirror_mode": {
        "name": "ipython",
        "version": 3
      },
      "file_extension": ".py",
      "mimetype": "text/x-python",
      "name": "python",
      "nbconvert_exporter": "python",
      "pygments_lexer": "ipython3",
      "version": "3.6.12"
    }
  },
  "nbformat": 4,
  "nbformat_minor": 0
}